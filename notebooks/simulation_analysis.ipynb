{
 "cells": [
  {
   "cell_type": "code",
   "execution_count": 1,
   "id": "cf5cefb3-0076-4a86-8766-4e9a0b1d14f7",
   "metadata": {},
   "outputs": [],
   "source": [
    "import json\n",
    "from pathlib import Path\n",
    "import re\n",
    "from typing import List, Dict, Any, Optional\n",
    "\n",
    "\n",
    "def extract_model_name_from_filename(filename: str) -> str:\n",
    "    parts = filename.split(\"-simulation\")\n",
    "    return parts[0]\n",
    "\n",
    "\n",
    "def count_words(text: str) -> int:\n",
    "    if not text or not text.strip():\n",
    "        return 0\n",
    "    words = re.findall(r\"\\b\\w+\\b\", text.lower())\n",
    "    return len(words)\n",
    "\n",
    "\n",
    "def analyze_jsonl_simulation_responses(\n",
    "    simulations_dir_path: str,\n",
    ") -> Optional[List[Dict[str, Any]]]:\n",
    "    sim_dir = Path(simulations_dir_path)\n",
    "    all_response_metrics: List[Dict[str, Any]] = []\n",
    "    simulation_files = list(sim_dir.glob(\"*.jsonl\"))\n",
    "\n",
    "    for file_path in simulation_files:\n",
    "        model_name = extract_model_name_from_filename(file_path.name)\n",
    "        with open(file_path, \"r\", encoding=\"utf-8\") as f:\n",
    "            for i, line in enumerate(f):\n",
    "                simulation_data = json.loads(line)\n",
    "                user_turns = simulation_data.get(\"simulation\", {}).get(\"userTurns\", [])\n",
    "\n",
    "                for turn_idx, turn in enumerate(user_turns):\n",
    "                    system_response_obj = turn.get(\"systemResponse\")\n",
    "                    if not system_response_obj:\n",
    "                        continue\n",
    "\n",
    "                    utterance = system_response_obj.get(\"utterance\")\n",
    "                    if utterance is None:\n",
    "                        continue\n",
    "\n",
    "                    word_count = count_words(utterance)\n",
    "\n",
    "                    all_response_metrics.append(\n",
    "                        {\n",
    "                            \"file_name\": file_path.name,\n",
    "                            \"model_name\": model_name,\n",
    "                            \"simulation_index_in_file\": i,\n",
    "                            \"turn_index\": turn_idx,\n",
    "                            \"system_response_utterance\": utterance,\n",
    "                            \"word_count\": word_count,\n",
    "                        }\n",
    "                    )\n",
    "\n",
    "    return all_response_metrics"
   ]
  },
  {
   "cell_type": "code",
   "execution_count": 2,
   "id": "e3906b09-9697-4381-b95a-9e3871da615a",
   "metadata": {},
   "outputs": [
    {
     "name": "stdout",
     "output_type": "stream",
     "text": [
      "                                 sum     mean  median      std  min  max\n",
      "model_name                                                              \n",
      "base                             422  23.4444    20.0  14.2590    7   54\n",
      "claude-opus-4                   1017  56.5000    59.0   8.4244   25   63\n",
      "claude-sonnet-4                  954  53.0000    52.0   3.8348   46   61\n",
      "gemini-2.5-flash-preview-05-20   799  44.3889    43.0   6.3165   34   56\n",
      "gemini-2.5-pro-preview           812  45.1111    48.0   6.5878   32   54\n",
      "gpt-4.1                          980  54.4444    55.0   2.2022   51   59\n",
      "gpt-4o                           927  51.5000    52.0   2.6624   46   56\n"
     ]
    }
   ],
   "source": [
    "import pandas as pd\n",
    "\n",
    "simulations_path = \"../simulations\"\n",
    "all_metrics = analyze_jsonl_simulation_responses(simulations_path)\n",
    "\n",
    "if all_metrics:\n",
    "    df = (\n",
    "        pd.DataFrame(all_metrics)\n",
    "        .groupby(\"model_name\")[\"word_count\"]\n",
    "        .agg([\"sum\", \"mean\", \"median\", \"std\", \"min\", \"max\"])\n",
    "        .round(4)\n",
    "    )\n",
    "    print(df)"
   ]
  },
  {
   "cell_type": "code",
   "execution_count": null,
   "id": "121b55b1",
   "metadata": {},
   "outputs": [],
   "source": []
  }
 ],
 "metadata": {
  "kernelspec": {
   "display_name": ".venv",
   "language": "python",
   "name": "python3"
  },
  "language_info": {
   "codemirror_mode": {
    "name": "ipython",
    "version": 3
   },
   "file_extension": ".py",
   "mimetype": "text/x-python",
   "name": "python",
   "nbconvert_exporter": "python",
   "pygments_lexer": "ipython3",
   "version": "3.12.9"
  }
 },
 "nbformat": 4,
 "nbformat_minor": 5
}
